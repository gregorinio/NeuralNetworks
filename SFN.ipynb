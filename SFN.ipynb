{
 "cells": [
  {
   "cell_type": "code",
   "execution_count": 33,
   "metadata": {
    "collapsed": false
   },
   "outputs": [
    {
     "name": "stdout",
     "output_type": "stream",
     "text": [
      "Populating the interactive namespace from numpy and matplotlib\n"
     ]
    },
    {
     "name": "stderr",
     "output_type": "stream",
     "text": [
      "WARNING: pylab import has clobbered these variables: ['convolve']\n",
      "`%matplotlib` prevents importing * from pylab and numpy\n"
     ]
    }
   ],
   "source": [
    "%pylab inline"
   ]
  },
  {
   "cell_type": "code",
   "execution_count": 34,
   "metadata": {
    "collapsed": false
   },
   "outputs": [],
   "source": [
    "import skimage.io\n",
    "from scipy.ndimage.filters import convolve\n",
    "\n",
    "#note: this requires the starter code for the assignments!\n",
    "from common.plotting import plot_mat"
   ]
  },
  {
   "cell_type": "code",
   "execution_count": 35,
   "metadata": {
    "collapsed": false
   },
   "outputs": [],
   "source": [
    "# Fix a bug in printing SVG\n",
    "if sys.platform == 'win32':\n",
    "    print \"Monkey-patching pydot\"\n",
    "    import pydot\n",
    "\n",
    "    def force_find_graphviz(graphviz_root):\n",
    "        binpath = os.path.join(graphviz_root, 'bin')\n",
    "        programs = 'dot twopi neato circo fdp sfdp'\n",
    "        def helper():\n",
    "            for prg in programs.split():\n",
    "                if os.path.exists(os.path.join(binpath, prg)):\n",
    "                    yield ((prg, os.path.join(binpath, prg)))\n",
    "                elif os.path.exists(os.path.join(binpath, prg+'.exe')):\n",
    "                    yield ((prg, os.path.join(binpath, prg+'.exe')))\n",
    "        progdict = dict(helper())\n",
    "        return lambda: progdict\n",
    "\n",
    "    pydot.find_graphviz = force_find_graphviz('c:/Program Files (x86)/Graphviz2.34/')"
   ]
  },
  {
   "cell_type": "code",
   "execution_count": 36,
   "metadata": {
    "collapsed": false
   },
   "outputs": [],
   "source": [
    "import theano\n",
    "import theano.tensor.signal.downsample\n",
    "import theano.tensor.nlinalg"
   ]
  },
  {
   "cell_type": "code",
   "execution_count": 37,
   "metadata": {
    "collapsed": true
   },
   "outputs": [],
   "source": [
    "from IPython.display import SVG\n",
    "def svgdotprint(g):\n",
    "    return SVG(theano.printing.pydotprint(g, return_image=True, format='svg'))"
   ]
  },
  {
   "cell_type": "markdown",
   "metadata": {},
   "source": [
    "To get grayscale we will simply average over the last dimension (channel)"
   ]
  },
  {
   "cell_type": "code",
   "execution_count": 38,
   "metadata": {
    "collapsed": true
   },
   "outputs": [],
   "source": [
    "def max_pool(img, nr, nc):\n",
    "    im_r, im_c = img.shape\n",
    "    im_ret = np.zeros((np.floor(im_r/nr), np.floor(im_c/nc)))\n",
    "    for r in range(im_ret.shape[0]):\n",
    "        for c in range(im_ret.shape[1]):\n",
    "            im_ret[r,c] = img[r*nr:(r+1)*nr, c*nc:(c+1)*nc].max()\n",
    "    return im_ret"
   ]
  },
  {
   "cell_type": "markdown",
   "metadata": {},
   "source": [
    "# MNIST"
   ]
  },
  {
   "cell_type": "code",
   "execution_count": 39,
   "metadata": {
    "collapsed": false
   },
   "outputs": [],
   "source": [
    "from fuel.datasets.mnist import MNIST\n",
    "from fuel.transformers import ScaleAndShift, Cast, Flatten, Mapping\n",
    "from fuel.streams import DataStream\n",
    "from fuel.schemes import SequentialScheme, ShuffledScheme\n",
    "\n",
    "MNIST.default_transformers = (\n",
    "    (ScaleAndShift, [2.0 / 255.0, -1], {'which_sources': 'features'}),\n",
    "    (Cast, [np.float32], {'which_sources': 'features'}))\n",
    "\n",
    "mnist_train = MNIST((\"train\",), subset=slice(None,50000))\n",
    "#this stream will shuffle the MNIST set and return us batches of 100 examples\n",
    "mnist_train_stream = DataStream.default_stream(\n",
    "    mnist_train,\n",
    "    iteration_scheme=ShuffledScheme(mnist_train.num_examples, 25))\n",
    "                                               \n",
    "mnist_validation = MNIST((\"train\",), subset=slice(50000, None))\n",
    "\n",
    "# We will use larger portions for testing and validation\n",
    "# as these dont do a backward pass and reauire less RAM.\n",
    "mnist_validation_stream = DataStream.default_stream(\n",
    "    mnist_validation, iteration_scheme=SequentialScheme(mnist_validation.num_examples, 100))\n",
    "mnist_test = MNIST((\"test\",))\n",
    "mnist_test_stream = DataStream.default_stream(\n",
    "    mnist_test, iteration_scheme=SequentialScheme(mnist_test.num_examples, 100))"
   ]
  },
  {
   "cell_type": "code",
   "execution_count": 40,
   "metadata": {
    "collapsed": false
   },
   "outputs": [
    {
     "name": "stdout",
     "output_type": "stream",
     "text": [
      "The streams return batches containing (u'features', u'targets')\n",
      "Each trainin batch consits of a tuple containing:\n",
      " - an array of size (25, 1, 28, 28) containing float32\n",
      " - an array of size (25, 1) containing uint8\n",
      "Validation/test batches consits of tuples containing:\n",
      " - an array of size (100, 1, 28, 28) containing float32\n",
      " - an array of size (100, 1) containing uint8\n"
     ]
    }
   ],
   "source": [
    "print \"The streams return batches containing %s\" % (mnist_train_stream.sources,)\n",
    "\n",
    "print \"Each trainin batch consits of a tuple containing:\"\n",
    "for element in next(mnist_train_stream.get_epoch_iterator()):\n",
    "    print \" - an array of size %s containing %s\" % (element.shape, element.dtype)\n",
    "    \n",
    "print \"Validation/test batches consits of tuples containing:\"\n",
    "for element in next(mnist_test_stream.get_epoch_iterator()):\n",
    "    print \" - an array of size %s containing %s\" % (element.shape, element.dtype)"
   ]
  },
  {
   "cell_type": "code",
   "execution_count": 41,
   "metadata": {
    "collapsed": true
   },
   "outputs": [],
   "source": [
    "#\n",
    "# These are taken from https://github.com/mila-udem/blocks\n",
    "# \n",
    "\n",
    "class Constant():\n",
    "    \"\"\"Initialize parameters to a constant.\n",
    "    The constant may be a scalar or a :class:`~numpy.ndarray` of any shape\n",
    "    that is broadcastable with the requested parameter arrays.\n",
    "    Parameters\n",
    "    ----------\n",
    "    constant : :class:`~numpy.ndarray`\n",
    "        The initialization value to use. Must be a scalar or an ndarray (or\n",
    "        compatible object, such as a nested list) that has a shape that is\n",
    "        broadcastable with any shape requested by `initialize`.\n",
    "    \"\"\"\n",
    "    def __init__(self, constant):\n",
    "        self._constant = numpy.asarray(constant)\n",
    "\n",
    "    def generate(self, rng, shape):\n",
    "        dest = numpy.empty(shape, dtype=np.float32)\n",
    "        dest[...] = self._constant\n",
    "        return dest\n",
    "\n",
    "\n",
    "class IsotropicGaussian():\n",
    "    \"\"\"Initialize parameters from an isotropic Gaussian distribution.\n",
    "    Parameters\n",
    "    ----------\n",
    "    std : float, optional\n",
    "        The standard deviation of the Gaussian distribution. Defaults to 1.\n",
    "    mean : float, optional\n",
    "        The mean of the Gaussian distribution. Defaults to 0\n",
    "    Notes\n",
    "    -----\n",
    "    Be careful: the standard deviation goes first and the mean goes\n",
    "    second!\n",
    "    \"\"\"\n",
    "    def __init__(self, std=1, mean=0):\n",
    "        self._mean = mean\n",
    "        self._std = std\n",
    "\n",
    "    def generate(self, rng, shape):\n",
    "        m = rng.normal(self._mean, self._std, size=shape)\n",
    "        return m.astype(np.float32)\n",
    "\n",
    "\n",
    "class Uniform():\n",
    "    \"\"\"Initialize parameters from a uniform distribution.\n",
    "    Parameters\n",
    "    ----------\n",
    "    mean : float, optional\n",
    "        The mean of the uniform distribution (i.e. the center of mass for\n",
    "        the density function); Defaults to 0.\n",
    "    width : float, optional\n",
    "        One way of specifying the range of the uniform distribution. The\n",
    "        support will be [mean - width/2, mean + width/2]. **Exactly one**\n",
    "        of `width` or `std` must be specified.\n",
    "    std : float, optional\n",
    "        An alternative method of specifying the range of the uniform\n",
    "        distribution. Chooses the width of the uniform such that random\n",
    "        variates will have a desired standard deviation. **Exactly one** of\n",
    "        `width` or `std` must be specified.\n",
    "    \"\"\"\n",
    "    def __init__(self, mean=0., width=None, std=None):\n",
    "        if (width is not None) == (std is not None):\n",
    "            raise ValueError(\"must specify width or std, \"\n",
    "                             \"but not both\")\n",
    "        if std is not None:\n",
    "            # Variance of a uniform is 1/12 * width^2\n",
    "            self._width = numpy.sqrt(12) * std\n",
    "        else:\n",
    "            self._width = width\n",
    "        self._mean = mean\n",
    "\n",
    "    def generate(self, rng, shape):\n",
    "        w = self._width / 2\n",
    "        m = rng.uniform(self._mean - w, self._mean + w, size=shape)\n",
    "        return m.astype(np.float32)"
   ]
  },
  {
   "cell_type": "code",
   "execution_count": 42,
   "metadata": {
    "collapsed": false
   },
   "outputs": [
    {
     "name": "stdout",
     "output_type": "stream",
     "text": [
      "X shape: (3, 1, 28, 28)\n"
     ]
    }
   ],
   "source": [
    "# A theano variable is an entry to the cmputational graph\n",
    "# We will need to provide its value during function call\n",
    "# X is batch_size x num_channels x img_rows x img_columns\n",
    "X = theano.tensor.tensor4('X')\n",
    "\n",
    "# Y is 1D, it lists the targets for all examples\n",
    "Y = theano.tensor.matrix('Y', dtype='uint8')\n",
    "\n",
    "#The tag values are useful during debugging the creation of Theano graphs\n",
    "\n",
    "X_test_value, Y_test_value = next(mnist_train_stream.get_epoch_iterator())\n",
    "#\n",
    "# Unfortunately, test tags don't work with convolutions with newest Theano :(\n",
    "#\n",
    "theano.config.compute_test_value = 'off' # Enable the computation of test values\n",
    "\n",
    "\n",
    "X.tag.test_value = X_test_value[:3]\n",
    "Y.tag.test_value = Y_test_value[:3]\n",
    "\n",
    "print \"X shape: %s\" % (X.tag.test_value.shape,)\n",
    "\n",
    "# this list will hold all parameters of the network\n",
    "model_parameters = []\n",
    "flat_parameters  = []\n",
    "\n",
    "#The first convolutional layer\n",
    "#The shape is: num_out_filters x num_in_filters x filter_height x filter_width\n",
    "num_filters_1 = 1 #1 #3 #10 #we will apply that many convolution filters in the first layer\n",
    "CW1_flat = theano.shared(np.zeros((num_filters_1*1*5*5), dtype='float32'),\n",
    "                   name='CW1_flat')\n",
    "CW1 = CW1_flat.reshape((num_filters_1,1,5,5))\n",
    "CW1_flat.tag.initializer = IsotropicGaussian(0.05)\n",
    "\n",
    "CB1 = theano.shared(np.zeros((num_filters_1,), dtype='float32'),\n",
    "                    name='CB1')\n",
    "CB1.tag.initializer = Constant(0.0)\n",
    "model_parameters += [CW1, CB1]\n",
    "flat_parameters  += [CW1_flat, CB1]\n",
    "\n",
    "after_C1 = theano.tensor.maximum(\n",
    "    0.0,\n",
    "    theano.tensor.nnet.conv2d(X, CW1) + CB1.dimshuffle('x',0,'x','x')\n",
    "    )\n",
    "# print \"after_C1 shape: %s\" % (after_C1.tag.test_value.shape,)\n",
    "after_P1 = theano.tensor.signal.downsample.max_pool_2d(after_C1, (2,2), ignore_border=True) # bylo (2,2)\n",
    "# print \"after_P1 shape: %s\" % (after_P1.tag.test_value.shape,)\n",
    "\n",
    "\n",
    "num_filters_2 = 1 #3 #3 #25 #we will compute ten convolution filters in the first layer\n",
    "\n",
    "CW2_flat = theano.shared(np.zeros((num_filters_2*num_filters_1*5*5), dtype='float32'),\n",
    "                   name='CW2_flat')\n",
    "CW2 = CW2_flat.reshape((num_filters_2,num_filters_1,5,5))\n",
    "CW2_flat.tag.initializer = IsotropicGaussian(0.05)\n",
    "\n",
    "\n",
    "CB2 = theano.shared(np.zeros((num_filters_2,), dtype='float32'),\n",
    "                    name='CB2')\n",
    "CB2.tag.initializer = Constant(0.0)\n",
    "model_parameters += [CW2, CB2]\n",
    "flat_parameters  += [CW2_flat, CB2]\n",
    "\n",
    "after_C2 = theano.tensor.maximum(\n",
    "    0.0,\n",
    "    theano.tensor.nnet.conv2d(after_P1, CW2) + CB2.dimshuffle('x',0,'x','x')\n",
    "    )\n",
    "after_P2 = theano.tensor.signal.downsample.max_pool_2d(after_C2, (2,2), ignore_border=True) # bylo (2,2)\n",
    "\n",
    "\n",
    "num_fw3_hidden= 12 #100 #was 500 !!!!!!!!!!!!!!!!!!!!!!\n",
    "\n",
    "FW3_flat = theano.shared(np.zeros((num_filters_2*4*4*num_fw3_hidden), dtype='float32'),\n",
    "                   name='FW3_flat')\n",
    "FW3 = FW3_flat.reshape((num_filters_2*4*4,num_fw3_hidden))\n",
    "FW3_flat.tag.initializer = IsotropicGaussian(0.05)\n",
    "\n",
    "FB3 = theano.shared(np.zeros((num_fw3_hidden,), dtype='float32'),\n",
    "                    name='FB3')\n",
    "FB3.tag.initializer = Constant(0.0)\n",
    "model_parameters += [FW3, FB3]\n",
    "flat_parameters  += [FW3_flat, FB3]\n",
    "\n",
    "after_F3 = theano.tensor.maximum(0.0, \n",
    "                                 theano.tensor.dot(after_P2.flatten(2), FW3) + FB3.dimshuffle('x',0))\n",
    "\n",
    "\n",
    "num_fw4_hidden=10\n",
    "\n",
    "FW4_flat = theano.shared(np.zeros((num_fw3_hidden*num_fw4_hidden), dtype='float32'),\n",
    "                   name='FW4_flat')\n",
    "FW4 = FW4_flat.reshape((num_fw3_hidden, num_fw4_hidden))\n",
    "FW4_flat.tag.initializer = IsotropicGaussian(0.05)\n",
    "\n",
    "FB4 = theano.shared(np.zeros((num_fw4_hidden,), dtype='float32'),\n",
    "                    name='FB4')\n",
    "FB4.tag.initializer = Constant(0.0)\n",
    "model_parameters += [FW4, FB4]\n",
    "flat_parameters  += [FW4_flat, FB4]\n",
    "\n",
    "after_F4 = theano.tensor.dot(after_F3, FW4) + FB4.dimshuffle('x',0)\n",
    "\n",
    "log_probs = theano.tensor.nnet.softmax(after_F4)\n",
    "\n",
    "predictions = theano.tensor.argmax(log_probs, axis=1)\n",
    "\n",
    "error_rate = theano.tensor.neq(predictions,Y.ravel()).mean()\n",
    "nll = - theano.tensor.log(log_probs[theano.tensor.arange(Y.shape[0]), Y.ravel()]).mean()\n",
    "\n",
    "weight_decay = 0.0\n",
    "for p in flat_parameters:\n",
    "    if p.name[1]=='W':\n",
    "        weight_decay = weight_decay + 1e-3 * (p**2).sum()\n",
    "\n",
    "cost = nll + weight_decay\n",
    "\n",
    "#At this point stop computing test values\n",
    "theano.config.compute_test_value = 'off' # Enable the computation of test values"
   ]
  },
  {
   "cell_type": "code",
   "execution_count": 43,
   "metadata": {
    "collapsed": false
   },
   "outputs": [],
   "source": [
    "#\n",
    "# We have built a computation graph for computing the error_rate, predictions and cost\n",
    "#\n",
    "#svgdotprint(nll)"
   ]
  },
  {
   "cell_type": "code",
   "execution_count": 44,
   "metadata": {
    "collapsed": true
   },
   "outputs": [],
   "source": [
    "# The updates will update our shared values\n",
    "updates = []\n",
    "updates2 = []"
   ]
  },
  {
   "cell_type": "code",
   "execution_count": 45,
   "metadata": {
    "collapsed": false
   },
   "outputs": [],
   "source": [
    "lrate = theano.tensor.scalar('lrate',dtype='float32')\n",
    "momentum = theano.tensor.scalar('momentum',dtype='float32')\n",
    "epocnt = theano.tensor.scalar('epocnt',dtype='float32')\n",
    "\n",
    "# Theano will compute the gradients for us\n",
    "gradients = theano.grad(cost, flat_parameters)\n",
    "\n",
    "hs = theano.gradient.hessian(cost, flat_parameters)\n",
    "\n",
    "#initialize storage for momentum\n",
    "velocities = [theano.shared(np.zeros_like(p.get_value()), name='V_%s' %(p.name, )) for p in flat_parameters]\n",
    "\n",
    "for p,g,v,h in zip(flat_parameters, gradients, velocities, hs):\n",
    "    v_new = momentum * v - lrate * g\n",
    "    p_new = p + v_new\n",
    "    updates += [(v,v_new), (p, p_new)]\n",
    "\n",
    "#eigvall = []    \n",
    "delta1 = 1e-4\n",
    "delta2 = 1e-3\n",
    "    \n",
    "for p,g,v,h in zip(flat_parameters, gradients, velocities, hs):\n",
    "    #print v.shape, g.shape, \"after_F3 shape: %s\" % (p.tag.test_value.shape,)\n",
    "    v_new = momentum * v - lrate * g\n",
    "    eigv, eigm = theano.tensor.nlinalg.eig(h) # lub Eigh dla sym macierzy\n",
    "    hinv = theano.tensor.dot(eigm.T, theano.tensor.dot(theano.tensor.nlinalg.matrix_inverse(\n",
    "                (theano.tensor.nlinalg.alloc_diag(theano.tensor.abs_(eigv)))), eigm))\n",
    "    dtheta = theano.tensor.dot(g, hinv)\n",
    "    alpha = theano.tensor.min(delta1 / theano.tensor.dot(dtheta.T, theano.tensor.dot(h, dtheta)), delta2)\n",
    "    dtheta = alpha * dtheta\n",
    "    p_new = p - lrate * dtheta\n",
    "    updates2 += [(v,v_new), (p, p_new)]\n",
    "    \n",
    "#eigvall = theano.tensor.sort(eigvall)\n",
    "#eigmin = theano.tensor.min(eigvall)"
   ]
  },
  {
   "cell_type": "code",
   "execution_count": 46,
   "metadata": {
    "collapsed": false
   },
   "outputs": [
    {
     "name": "stdout",
     "output_type": "stream",
     "text": [
      "(V_CW1_flat, Elemwise{sub,no_inplace}.0)\n"
     ]
    },
    {
     "data": {
      "text/plain": [
       "[(V_CW1_flat, Elemwise{sub,no_inplace}.0),\n",
       " (CW1_flat, Elemwise{add,no_inplace}.0),\n",
       " (V_CB1, Elemwise{sub,no_inplace}.0),\n",
       " (CB1, Elemwise{add,no_inplace}.0),\n",
       " (V_CW2_flat, Elemwise{sub,no_inplace}.0),\n",
       " (CW2_flat, Elemwise{add,no_inplace}.0),\n",
       " (V_CB2, Elemwise{sub,no_inplace}.0),\n",
       " (CB2, Elemwise{add,no_inplace}.0),\n",
       " (V_FW3_flat, Elemwise{sub,no_inplace}.0),\n",
       " (FW3_flat, Elemwise{add,no_inplace}.0),\n",
       " (V_FB3, Elemwise{sub,no_inplace}.0),\n",
       " (FB3, Elemwise{add,no_inplace}.0),\n",
       " (V_FW4_flat, Elemwise{sub,no_inplace}.0),\n",
       " (FW4_flat, Elemwise{add,no_inplace}.0),\n",
       " (V_FB4, Elemwise{sub,no_inplace}.0),\n",
       " (FB4, Elemwise{add,no_inplace}.0)]"
      ]
     },
     "execution_count": 46,
     "metadata": {},
     "output_type": "execute_result"
    }
   ],
   "source": [
    "print updates[0]\n",
    "updates"
   ]
  },
  {
   "cell_type": "code",
   "execution_count": 47,
   "metadata": {
    "collapsed": false
   },
   "outputs": [],
   "source": [
    "#compile theano functions\n",
    "\n",
    "#each call to train step will make one SGD step\n",
    "train_step = theano.function([X,Y,lrate,momentum],[cost, error_rate, nll, weight_decay],updates=updates, on_unused_input='warn')\n",
    "train_step2 = theano.function([X,Y,lrate,momentum],[cost, error_rate, nll, weight_decay],updates=updates2, on_unused_input='warn')\n",
    "#each call to predict will return predictions on a batch of data\n",
    "predict = theano.function([X], predictions)"
   ]
  },
  {
   "cell_type": "code",
   "execution_count": 48,
   "metadata": {
    "collapsed": true
   },
   "outputs": [],
   "source": [
    "def compute_error_rate(stream):\n",
    "    errs = 0.0\n",
    "    num_samples = 0.0\n",
    "    for X, Y in stream.get_epoch_iterator():\n",
    "        errs += (predict(X)!=Y.ravel()).sum()\n",
    "        num_samples += Y.shape[0]\n",
    "    return errs/num_samples\n"
   ]
  },
  {
   "cell_type": "code",
   "execution_count": 49,
   "metadata": {
    "collapsed": true
   },
   "outputs": [],
   "source": [
    "#utilities to save values of parameters and to load them\n",
    "\n",
    "def init_parameters():\n",
    "    rng = np.random.RandomState(1234)\n",
    "    for p in flat_parameters:\n",
    "        p.set_value(p.tag.initializer.generate(rng, p.get_value().shape))\n",
    "\n",
    "def snapshot_parameters():\n",
    "    return [p.get_value(borrow=False) for p in flat_parameters]\n",
    "\n",
    "def load_parameters(snapshot):\n",
    "    for p, s in zip(flat_parameters, snapshot):\n",
    "        p.set_value(s, borrow=False)"
   ]
  },
  {
   "cell_type": "code",
   "execution_count": 50,
   "metadata": {
    "collapsed": false
   },
   "outputs": [],
   "source": [
    "# init training\n",
    "\n",
    "i=0\n",
    "e=0\n",
    "\n",
    "init_parameters()\n",
    "for v in velocities:\n",
    "    v.set_value(np.zeros_like(v.get_value()))\n",
    "\n",
    "best_valid_error_rate = np.inf\n",
    "best_params = snapshot_parameters()\n",
    "best_params_epoch = 0\n",
    "\n",
    "train_erros = []\n",
    "train_loss = []\n",
    "train_nll = []\n",
    "validation_errors = []\n",
    "\n",
    "number_of_epochs = 3\n",
    "patience_expansion = 1.5"
   ]
  },
  {
   "cell_type": "code",
   "execution_count": 51,
   "metadata": {
    "collapsed": false,
    "scrolled": true
   },
   "outputs": [
    {
     "name": "stdout",
     "output_type": "stream",
     "text": [
      "At minibatch 100, batch loss 2.301771, batch nll 2.300945, batch error rate 88.000000%\n",
      "At minibatch 200, batch loss 2.310752, batch nll 2.309930, batch error rate 92.000000%\n",
      "At minibatch 300, batch loss 2.305181, batch nll 2.304360, batch error rate 88.000000%\n",
      "At minibatch 400, batch loss 2.288456, batch nll 2.287631, batch error rate 80.000000%\n",
      "At minibatch 500, batch loss 2.292042, batch nll 2.291196, batch error rate 76.000000%\n",
      "At minibatch 600, batch loss 2.298955, batch nll 2.298061, batch error rate 92.000000%\n",
      "At minibatch 700, batch loss 2.312648, batch nll 2.311620, batch error rate 100.000000%\n",
      "At minibatch 800, batch loss 2.254777, batch nll 2.252944, batch error rate 96.000000%\n",
      "At minibatch 900, batch loss 1.103641, batch nll 1.096123, batch error rate 40.000000%\n",
      "At minibatch 1000, batch loss 0.871867, batch nll 0.861703, batch error rate 28.000000%\n",
      "At minibatch 1100, batch loss 0.648552, batch nll 0.635762, batch error rate 24.000000%\n",
      "At minibatch 1200, batch loss 1.095072, batch nll 1.080308, batch error rate 36.000000%\n",
      "At minibatch 1300, batch loss 0.753582, batch nll 0.736538, batch error rate 24.000000%\n",
      "At minibatch 1400, batch loss 0.536046, batch nll 0.517249, batch error rate 16.000000%\n",
      "At minibatch 1500, batch loss 0.504739, batch nll 0.484553, batch error rate 16.000000%\n",
      "At minibatch 1600, batch loss 0.406707, batch nll 0.385270, batch error rate 12.000000%\n",
      "At minibatch 1700, batch loss 1.003088, batch nll 0.980691, batch error rate 36.000000%\n",
      "At minibatch 1800, batch loss 0.619093, batch nll 0.595306, batch error rate 24.000000%\n",
      "At minibatch 1900, batch loss 0.587195, batch nll 0.562522, batch error rate 24.000000%\n",
      "At minibatch 2000, batch loss 0.784647, batch nll 0.758903, batch error rate 28.000000%\n",
      "After epoch 1: valid_err_rate: 15.170000% currently going to do 3 epochs\n",
      "After epoch 1: averaged train_err_rate: 52.138000% averaged train nll: 1.412632 averaged train loss: 1.423353\n",
      "At minibatch 2100, batch loss 0.633225, batch nll 0.606624, batch error rate 16.000000%\n",
      "At minibatch 2200, batch loss 0.276785, batch nll 0.249617, batch error rate 4.000000%\n",
      "At minibatch 2300, batch loss 0.288096, batch nll 0.260260, batch error rate 12.000000%\n",
      "At minibatch 2400, batch loss 0.911881, batch nll 0.883431, batch error rate 28.000000%\n",
      "At minibatch 2500, batch loss 0.453738, batch nll 0.424909, batch error rate 24.000000%\n",
      "At minibatch 2600, batch loss 0.444825, batch nll 0.415560, batch error rate 8.000000%\n",
      "At minibatch 2700, batch loss 0.389933, batch nll 0.360352, batch error rate 12.000000%\n",
      "At minibatch 2800, batch loss 0.487652, batch nll 0.457506, batch error rate 16.000000%\n",
      "At minibatch 2900, batch loss 0.573475, batch nll 0.543153, batch error rate 24.000000%\n",
      "At minibatch 3000, batch loss 0.427208, batch nll 0.396385, batch error rate 12.000000%\n",
      "At minibatch 3100, batch loss 0.788974, batch nll 0.757798, batch error rate 16.000000%\n",
      "At minibatch 3200, batch loss 0.236477, batch nll 0.205209, batch error rate 4.000000%\n",
      "At minibatch 3300, batch loss 0.577302, batch nll 0.545694, batch error rate 20.000000%\n",
      "At minibatch 3400, batch loss 0.430290, batch nll 0.398401, batch error rate 16.000000%\n",
      "At minibatch 3500, batch loss 0.285422, batch nll 0.253687, batch error rate 16.000000%\n",
      "At minibatch 3600, batch loss 0.546937, batch nll 0.515038, batch error rate 20.000000%\n",
      "At minibatch 3700, batch loss 0.476683, batch nll 0.444638, batch error rate 16.000000%\n",
      "At minibatch 3800, batch loss 0.408869, batch nll 0.376633, batch error rate 16.000000%\n",
      "At minibatch 3900, batch loss 0.554424, batch nll 0.521749, batch error rate 20.000000%\n",
      "At minibatch 4000, batch loss 0.415302, batch nll 0.382641, batch error rate 8.000000%\n",
      "After epoch 2: valid_err_rate: 12.120000% currently going to do 4 epochs\n",
      "After epoch 2: averaged train_err_rate: 14.482000% averaged train nll: 0.453398 averaged train loss: 0.483646\n",
      "At minibatch 4100, batch loss 0.372397, batch nll 0.339494, batch error rate 4.000000%\n",
      "At minibatch 4200, batch loss 0.319307, batch nll 0.286263, batch error rate 8.000000%\n",
      "At minibatch 4300, batch loss 0.630362, batch nll 0.597344, batch error rate 12.000000%\n",
      "At minibatch 4400, batch loss 0.294493, batch nll 0.261407, batch error rate 12.000000%\n",
      "At minibatch 4500, batch loss 0.264869, batch nll 0.231547, batch error rate 4.000000%\n",
      "At minibatch 4600, batch loss 0.347502, batch nll 0.314019, batch error rate 12.000000%\n",
      "At minibatch 4700, batch loss 0.402706, batch nll 0.369191, batch error rate 8.000000%\n",
      "At minibatch 4800, batch loss 0.195054, batch nll 0.161599, batch error rate 4.000000%\n",
      "At minibatch 4900, batch loss 0.248627, batch nll 0.215052, batch error rate 8.000000%\n",
      "At minibatch 5000, batch loss 0.282477, batch nll 0.248808, batch error rate 12.000000%\n",
      "At minibatch 5100, batch loss 0.502913, batch nll 0.469288, batch error rate 16.000000%\n",
      "At minibatch 5200, batch loss 0.465440, batch nll 0.431702, batch error rate 20.000000%\n",
      "At minibatch 5300, batch loss 0.349140, batch nll 0.315604, batch error rate 8.000000%\n",
      "At minibatch 5400, batch loss 0.422513, batch nll 0.388713, batch error rate 16.000000%\n",
      "At minibatch 5500, batch loss 0.816707, batch nll 0.782835, batch error rate 24.000000%\n",
      "At minibatch 5600, batch loss 0.462447, batch nll 0.428797, batch error rate 16.000000%\n",
      "At minibatch 5700, batch loss 0.351036, batch nll 0.317428, batch error rate 12.000000%\n",
      "At minibatch 5800, batch loss 0.228771, batch nll 0.195195, batch error rate 4.000000%\n",
      "At minibatch 5900, batch loss 0.328958, batch nll 0.295186, batch error rate 4.000000%\n",
      "At minibatch 6000, batch loss 0.815874, batch nll 0.782201, batch error rate 20.000000%\n",
      "After epoch 3: valid_err_rate: 10.210000% currently going to do 5 epochs\n",
      "After epoch 3: averaged train_err_rate: 12.132000% averaged train nll: 0.388267 averaged train loss: 0.421731\n",
      "..."
     ]
    }
   ],
   "source": [
    "# training loop\n",
    "epocnt = 1\n",
    "\n",
    "while e<number_of_epochs: #This loop goes over epochs\n",
    "    e += 1\n",
    "    #First train on all data from this batch\n",
    "    epoch_start_i = i\n",
    "    for X_batch, Y_batch in mnist_train_stream.get_epoch_iterator(): \n",
    "        i += 1\n",
    "        \n",
    "        K = 2000\n",
    "        lrate = 4e-3 * K / np.maximum(K, i)\n",
    "        momentum=0.9\n",
    "        \n",
    "        L, err_rate, nll, wdec = train_step(X_batch, Y_batch, lrate, momentum)\n",
    "        \n",
    "        train_loss.append((i,L))\n",
    "        train_erros.append((i,err_rate))\n",
    "        train_nll.append((i,nll))\n",
    "        #if i % 10000 == 0:\n",
    "        #    print eigen(X_batch, Y_batch)\n",
    "        if i % 100 == 0:\n",
    "            print \"At minibatch %d, batch loss %f, batch nll %f, batch error rate %f%%\" % (i, L, nll, err_rate*100)\n",
    "        \n",
    "    # After an epoch compute validation error\n",
    "    val_error_rate = compute_error_rate(mnist_validation_stream)\n",
    "    if val_error_rate < best_valid_error_rate:\n",
    "        number_of_epochs = np.maximum(number_of_epochs, e * patience_expansion+1)\n",
    "        best_valid_error_rate = val_error_rate\n",
    "        best_params = snapshot_parameters()\n",
    "        best_params_epoch = e\n",
    "    validation_errors.append((i,val_error_rate))\n",
    "    print \"After epoch %d: valid_err_rate: %f%% currently going to do %d epochs\" %(\n",
    "        e, val_error_rate*100, number_of_epochs)\n",
    "    print \"After epoch %d: averaged train_err_rate: %f%% averaged train nll: %f averaged train loss: %f\" %(\n",
    "        e, np.mean(np.asarray(train_erros)[epoch_start_i:,1])*100, \n",
    "        np.mean(np.asarray(train_nll)[epoch_start_i:,1]),\n",
    "        np.mean(np.asarray(train_loss)[epoch_start_i:,1]))\n"
   ]
  },
  {
   "cell_type": "code",
   "execution_count": 52,
   "metadata": {
    "collapsed": false
   },
   "outputs": [
    {
     "name": "stdout",
     "output_type": "stream",
     "text": [
      "At minibatch 416100, batch loss 0.302119, batch nll 0.270876, batch error rate 12.000000%\n",
      "At minibatch 416200, batch loss 0.131105, batch nll 0.099862, batch error rate 0.000000%\n",
      "At minibatch 416300, batch loss 0.226554, batch nll 0.195312, batch error rate 8.000000%\n",
      "At minibatch 416400, batch loss 0.324439, batch nll 0.293197, batch error rate 4.000000%\n",
      "At minibatch 416500, batch loss 0.085683, batch nll 0.054441, batch error rate 0.000000%\n",
      "At minibatch 416600, batch loss 0.320017, batch nll 0.288775, batch error rate 4.000000%\n",
      "At minibatch 416700, batch loss 0.175342, batch nll 0.144100, batch error rate 0.000000%\n",
      "At minibatch 416800, batch loss 0.378575, batch nll 0.347333, batch error rate 8.000000%\n",
      "At minibatch 416900, batch loss 0.158352, batch nll 0.127109, batch error rate 4.000000%\n",
      "At minibatch 417000, batch loss 0.330239, batch nll 0.298996, batch error rate 8.000000%\n",
      "At minibatch 417100, batch loss 0.272431, batch nll 0.241188, batch error rate 8.000000%\n",
      "At minibatch 417200, batch loss 0.159267, batch nll 0.128025, batch error rate 4.000000%\n",
      "At minibatch 417300, batch loss 0.379496, batch nll 0.348253, batch error rate 12.000000%\n",
      "At minibatch 417400, batch loss 0.380440, batch nll 0.349198, batch error rate 16.000000%\n",
      "At minibatch 417500, batch loss 0.602883, batch nll 0.571641, batch error rate 16.000000%\n",
      "At minibatch 417600, batch loss 0.426845, batch nll 0.395602, batch error rate 12.000000%\n",
      "At minibatch 417700, batch loss 0.456930, batch nll 0.425688, batch error rate 16.000000%\n",
      "At minibatch 417800, batch loss 0.207233, batch nll 0.175991, batch error rate 8.000000%\n",
      "At minibatch 417900, batch loss 0.090303, batch nll 0.059061, batch error rate 0.000000%\n",
      "At minibatch 418000, batch loss 0.659452, batch nll 0.628209, batch error rate 24.000000%\n",
      "After epoch 209: valid_err_rate: 7.930000% currently going to do 211 epochs\n",
      "After epoch 209: averaged train_err_rate: 8.646000% averaged train nll: 0.272145 averaged train loss: 0.303387\n",
      "At minibatch 418100, batch loss 0.273324, batch nll 0.242081, batch error rate 8.000000%\n",
      "At minibatch 418200, batch loss 0.118738, batch nll 0.087496, batch error rate 4.000000%\n",
      "At minibatch 418300, batch loss 0.197248, batch nll 0.166005, batch error rate 8.000000%\n",
      "At minibatch 418400, batch loss 0.407915, batch nll 0.376673, batch error rate 8.000000%\n",
      "At minibatch 418500, batch loss 0.169662, batch nll 0.138419, batch error rate 4.000000%\n",
      "At minibatch 418600, batch loss 0.235447, batch nll 0.204205, batch error rate 8.000000%\n",
      "At minibatch 418700, batch loss 0.130010, batch nll 0.098768, batch error rate 4.000000%\n",
      "At minibatch 418800, batch loss 0.852505, batch nll 0.821262, batch error rate 16.000000%\n",
      "At minibatch 418900, batch loss 0.250294, batch nll 0.219052, batch error rate 8.000000%\n",
      "At minibatch 419000, batch loss 0.314833, batch nll 0.283591, batch error rate 4.000000%\n",
      "At minibatch 419100, batch loss 0.169922, batch nll 0.138680, batch error rate 8.000000%\n",
      "At minibatch 419200, batch loss 0.228677, batch nll 0.197435, batch error rate 4.000000%\n",
      "At minibatch 419300, batch loss 0.218307, batch nll 0.187065, batch error rate 4.000000%\n",
      "At minibatch 419400, batch loss 0.256989, batch nll 0.225746, batch error rate 12.000000%\n",
      "At minibatch 419500, batch loss 0.204643, batch nll 0.173401, batch error rate 12.000000%\n",
      "At minibatch 419600, batch loss 0.366824, batch nll 0.335581, batch error rate 8.000000%\n",
      "At minibatch 419700, batch loss 0.300146, batch nll 0.268904, batch error rate 4.000000%\n",
      "At minibatch 419800, batch loss 0.236069, batch nll 0.204826, batch error rate 8.000000%\n",
      "At minibatch 419900, batch loss 0.299431, batch nll 0.268188, batch error rate 8.000000%\n",
      "At minibatch 420000, batch loss 0.339923, batch nll 0.308681, batch error rate 8.000000%\n",
      "After epoch 210: valid_err_rate: 7.930000% currently going to do 211 epochs\n",
      "After epoch 210: averaged train_err_rate: 8.650000% averaged train nll: 0.272161 averaged train loss: 0.303403\n",
      "At minibatch 420100, batch loss 0.542501, batch nll 0.511259, batch error rate 28.000000%\n"
     ]
    },
    {
     "name": "stderr",
     "output_type": "stream",
     "text": [
      "/home/i258328/nn_assignments/libs/Theano/theano/tensor/nlinalg.py:321: ComplexWarning: Casting complex values to real discards the imaginary part\n",
      "  w[0], v[0] = [z.astype(x.dtype) for z in self._numop(x)]\n"
     ]
    },
    {
     "ename": "KeyboardInterrupt",
     "evalue": "",
     "output_type": "error",
     "traceback": [
      "\u001b[1;31m---------------------------------------------------------------------------\u001b[0m",
      "\u001b[1;31mKeyboardInterrupt\u001b[0m                         Traceback (most recent call last)",
      "\u001b[1;32m<ipython-input-52-58461ee51f67>\u001b[0m in \u001b[0;36m<module>\u001b[1;34m()\u001b[0m\n\u001b[0;32m     13\u001b[0m         \u001b[0mmomentum\u001b[0m\u001b[1;33m=\u001b[0m\u001b[1;36m0.9\u001b[0m\u001b[1;33m\u001b[0m\u001b[0m\n\u001b[0;32m     14\u001b[0m \u001b[1;33m\u001b[0m\u001b[0m\n\u001b[1;32m---> 15\u001b[1;33m         \u001b[0mL\u001b[0m\u001b[1;33m,\u001b[0m \u001b[0merr_rate\u001b[0m\u001b[1;33m,\u001b[0m \u001b[0mnll\u001b[0m\u001b[1;33m,\u001b[0m \u001b[0mwdec\u001b[0m \u001b[1;33m=\u001b[0m \u001b[0mtrain_step2\u001b[0m\u001b[1;33m(\u001b[0m\u001b[0mX_batch\u001b[0m\u001b[1;33m,\u001b[0m \u001b[0mY_batch\u001b[0m\u001b[1;33m,\u001b[0m \u001b[0mlrate\u001b[0m\u001b[1;33m,\u001b[0m \u001b[0mmomentum\u001b[0m\u001b[1;33m)\u001b[0m\u001b[1;33m\u001b[0m\u001b[0m\n\u001b[0m\u001b[0;32m     16\u001b[0m \u001b[1;33m\u001b[0m\u001b[0m\n\u001b[0;32m     17\u001b[0m \u001b[1;33m\u001b[0m\u001b[0m\n",
      "\u001b[1;32m/home/i258328/nn_assignments/libs/Theano/theano/compile/function_module.pyc\u001b[0m in \u001b[0;36m__call__\u001b[1;34m(self, *args, **kwargs)\u001b[0m\n\u001b[0;32m    857\u001b[0m         \u001b[0mt0_fn\u001b[0m \u001b[1;33m=\u001b[0m \u001b[0mtime\u001b[0m\u001b[1;33m.\u001b[0m\u001b[0mtime\u001b[0m\u001b[1;33m(\u001b[0m\u001b[1;33m)\u001b[0m\u001b[1;33m\u001b[0m\u001b[0m\n\u001b[0;32m    858\u001b[0m         \u001b[1;32mtry\u001b[0m\u001b[1;33m:\u001b[0m\u001b[1;33m\u001b[0m\u001b[0m\n\u001b[1;32m--> 859\u001b[1;33m             \u001b[0moutputs\u001b[0m \u001b[1;33m=\u001b[0m \u001b[0mself\u001b[0m\u001b[1;33m.\u001b[0m\u001b[0mfn\u001b[0m\u001b[1;33m(\u001b[0m\u001b[1;33m)\u001b[0m\u001b[1;33m\u001b[0m\u001b[0m\n\u001b[0m\u001b[0;32m    860\u001b[0m         \u001b[1;32mexcept\u001b[0m \u001b[0mException\u001b[0m\u001b[1;33m:\u001b[0m\u001b[1;33m\u001b[0m\u001b[0m\n\u001b[0;32m    861\u001b[0m             \u001b[1;32mif\u001b[0m \u001b[0mhasattr\u001b[0m\u001b[1;33m(\u001b[0m\u001b[0mself\u001b[0m\u001b[1;33m.\u001b[0m\u001b[0mfn\u001b[0m\u001b[1;33m,\u001b[0m \u001b[1;34m'position_of_error'\u001b[0m\u001b[1;33m)\u001b[0m\u001b[1;33m:\u001b[0m\u001b[1;33m\u001b[0m\u001b[0m\n",
      "\u001b[1;32m/home/i258328/nn_assignments/libs/Theano/theano/scan_module/scan_op.pyc\u001b[0m in \u001b[0;36mrval\u001b[1;34m(p, i, o, n, allow_gc)\u001b[0m\n\u001b[0;32m    961\u001b[0m         def rval(p=p, i=node_input_storage, o=node_output_storage, n=node,\n\u001b[0;32m    962\u001b[0m                  allow_gc=allow_gc):\n\u001b[1;32m--> 963\u001b[1;33m             \u001b[0mr\u001b[0m \u001b[1;33m=\u001b[0m \u001b[0mp\u001b[0m\u001b[1;33m(\u001b[0m\u001b[0mn\u001b[0m\u001b[1;33m,\u001b[0m \u001b[1;33m[\u001b[0m\u001b[0mx\u001b[0m\u001b[1;33m[\u001b[0m\u001b[1;36m0\u001b[0m\u001b[1;33m]\u001b[0m \u001b[1;32mfor\u001b[0m \u001b[0mx\u001b[0m \u001b[1;32min\u001b[0m \u001b[0mi\u001b[0m\u001b[1;33m]\u001b[0m\u001b[1;33m,\u001b[0m \u001b[0mo\u001b[0m\u001b[1;33m)\u001b[0m\u001b[1;33m\u001b[0m\u001b[0m\n\u001b[0m\u001b[0;32m    964\u001b[0m             \u001b[1;32mfor\u001b[0m \u001b[0mo\u001b[0m \u001b[1;32min\u001b[0m \u001b[0mnode\u001b[0m\u001b[1;33m.\u001b[0m\u001b[0moutputs\u001b[0m\u001b[1;33m:\u001b[0m\u001b[1;33m\u001b[0m\u001b[0m\n\u001b[0;32m    965\u001b[0m                 \u001b[0mcompute_map\u001b[0m\u001b[1;33m[\u001b[0m\u001b[0mo\u001b[0m\u001b[1;33m]\u001b[0m\u001b[1;33m[\u001b[0m\u001b[1;36m0\u001b[0m\u001b[1;33m]\u001b[0m \u001b[1;33m=\u001b[0m \u001b[0mTrue\u001b[0m\u001b[1;33m\u001b[0m\u001b[0m\n",
      "\u001b[1;32m/home/i258328/nn_assignments/libs/Theano/theano/scan_module/scan_op.pyc\u001b[0m in \u001b[0;36m<lambda>\u001b[1;34m(node, args, outs)\u001b[0m\n\u001b[0;32m    950\u001b[0m                         \u001b[0margs\u001b[0m\u001b[1;33m,\u001b[0m\u001b[1;33m\u001b[0m\u001b[0m\n\u001b[0;32m    951\u001b[0m                         \u001b[0mouts\u001b[0m\u001b[1;33m,\u001b[0m\u001b[1;33m\u001b[0m\u001b[0m\n\u001b[1;32m--> 952\u001b[1;33m                         self, node)\n\u001b[0m\u001b[0;32m    953\u001b[0m         \u001b[1;32mexcept\u001b[0m \u001b[1;33m(\u001b[0m\u001b[0mImportError\u001b[0m\u001b[1;33m,\u001b[0m \u001b[0mtheano\u001b[0m\u001b[1;33m.\u001b[0m\u001b[0mgof\u001b[0m\u001b[1;33m.\u001b[0m\u001b[0mcmodule\u001b[0m\u001b[1;33m.\u001b[0m\u001b[0mMissingGXX\u001b[0m\u001b[1;33m)\u001b[0m\u001b[1;33m:\u001b[0m\u001b[1;33m\u001b[0m\u001b[0m\n\u001b[0;32m    954\u001b[0m             \u001b[0mp\u001b[0m \u001b[1;33m=\u001b[0m \u001b[0mself\u001b[0m\u001b[1;33m.\u001b[0m\u001b[0mexecute\u001b[0m\u001b[1;33m\u001b[0m\u001b[0m\n",
      "\u001b[1;32m/home/i258328/nn_assignments/libs/Theano/theano/scan_module/scan_perform.pyx\u001b[0m in \u001b[0;36mtheano.scan_module.scan_perform.perform (/tmp/i258328/theano.NOBACKUP/nn_compiledir_Linux-3.13.0-32-generic-x86_64-with-debian-jessie-sid-x86_64-2.7.10-64/scan_perform/mod.cpp:4193)\u001b[1;34m()\u001b[0m\n\u001b[0;32m    395\u001b[0m \u001b[1;33m\u001b[0m\u001b[0m\n\u001b[0;32m    396\u001b[0m         \u001b[1;32mtry\u001b[0m\u001b[1;33m:\u001b[0m\u001b[1;33m\u001b[0m\u001b[0m\n\u001b[1;32m--> 397\u001b[1;33m             \u001b[0mfn\u001b[0m\u001b[1;33m(\u001b[0m\u001b[1;33m)\u001b[0m\u001b[1;33m\u001b[0m\u001b[0m\n\u001b[0m\u001b[0;32m    398\u001b[0m         \u001b[1;32mexcept\u001b[0m \u001b[0mException\u001b[0m\u001b[1;33m:\u001b[0m\u001b[1;33m\u001b[0m\u001b[0m\n\u001b[0;32m    399\u001b[0m             \u001b[1;32mif\u001b[0m \u001b[0mhasattr\u001b[0m\u001b[1;33m(\u001b[0m\u001b[0mfn\u001b[0m\u001b[1;33m,\u001b[0m \u001b[1;34m'position_of_error'\u001b[0m\u001b[1;33m)\u001b[0m\u001b[1;33m:\u001b[0m\u001b[1;33m\u001b[0m\u001b[0m\n",
      "\u001b[1;32m/home/i258328/nn_assignments/libs/Theano/theano/gof/op.pyc\u001b[0m in \u001b[0;36mrval\u001b[1;34m(p, i, o, n)\u001b[0m\n\u001b[0;32m    876\u001b[0m         \u001b[1;32mif\u001b[0m \u001b[0mparams\u001b[0m \u001b[1;32mis\u001b[0m \u001b[0mgraph\u001b[0m\u001b[1;33m.\u001b[0m\u001b[0mNoParams\u001b[0m\u001b[1;33m:\u001b[0m\u001b[1;33m\u001b[0m\u001b[0m\n\u001b[0;32m    877\u001b[0m             \u001b[1;31m# default arguments are stored in the closure of `rval`\u001b[0m\u001b[1;33m\u001b[0m\u001b[1;33m\u001b[0m\u001b[0m\n\u001b[1;32m--> 878\u001b[1;33m             \u001b[1;32mdef\u001b[0m \u001b[0mrval\u001b[0m\u001b[1;33m(\u001b[0m\u001b[0mp\u001b[0m\u001b[1;33m=\u001b[0m\u001b[0mp\u001b[0m\u001b[1;33m,\u001b[0m \u001b[0mi\u001b[0m\u001b[1;33m=\u001b[0m\u001b[0mnode_input_storage\u001b[0m\u001b[1;33m,\u001b[0m \u001b[0mo\u001b[0m\u001b[1;33m=\u001b[0m\u001b[0mnode_output_storage\u001b[0m\u001b[1;33m,\u001b[0m \u001b[0mn\u001b[0m\u001b[1;33m=\u001b[0m\u001b[0mnode\u001b[0m\u001b[1;33m)\u001b[0m\u001b[1;33m:\u001b[0m\u001b[1;33m\u001b[0m\u001b[0m\n\u001b[0m\u001b[0;32m    879\u001b[0m                 \u001b[0mr\u001b[0m \u001b[1;33m=\u001b[0m \u001b[0mp\u001b[0m\u001b[1;33m(\u001b[0m\u001b[0mn\u001b[0m\u001b[1;33m,\u001b[0m \u001b[1;33m[\u001b[0m\u001b[0mx\u001b[0m\u001b[1;33m[\u001b[0m\u001b[1;36m0\u001b[0m\u001b[1;33m]\u001b[0m \u001b[1;32mfor\u001b[0m \u001b[0mx\u001b[0m \u001b[1;32min\u001b[0m \u001b[0mi\u001b[0m\u001b[1;33m]\u001b[0m\u001b[1;33m,\u001b[0m \u001b[0mo\u001b[0m\u001b[1;33m)\u001b[0m\u001b[1;33m\u001b[0m\u001b[0m\n\u001b[0;32m    880\u001b[0m                 \u001b[1;32mfor\u001b[0m \u001b[0mo\u001b[0m \u001b[1;32min\u001b[0m \u001b[0mnode\u001b[0m\u001b[1;33m.\u001b[0m\u001b[0moutputs\u001b[0m\u001b[1;33m:\u001b[0m\u001b[1;33m\u001b[0m\u001b[0m\n",
      "\u001b[1;31mKeyboardInterrupt\u001b[0m: "
     ]
    }
   ],
   "source": [
    "#number_of_epochs = number_of_epochs * 1.5\n",
    "number_of_epochs = number_of_epochs + 3\n",
    "\n",
    "while e<number_of_epochs: #This loop goes over epochs\n",
    "    e += 1\n",
    "    #First train on all data from this batch\n",
    "    epoch_start_i = i\n",
    "    for X_batch, Y_batch in mnist_train_stream.get_epoch_iterator(): \n",
    "        i += 1\n",
    "\n",
    "        K = 2000\n",
    "        lrate = 4e-3 * K / np.maximum(K, i)\n",
    "        momentum=0.9\n",
    "\n",
    "        L, err_rate, nll, wdec = train_step2(X_batch, Y_batch, lrate, momentum)\n",
    "\n",
    "\n",
    "        train_loss.append((i,L))\n",
    "        train_erros.append((i,err_rate))\n",
    "        train_nll.append((i,nll))\n",
    "        if i % 100 == 0:\n",
    "            print \"At minibatch %d, batch loss %f, batch nll %f, batch error rate %f%%\" % (i, L, nll, err_rate*100)\n",
    "\n",
    "    # After an epoch compute validation error\n",
    "    val_error_rate = compute_error_rate(mnist_validation_stream)\n",
    "    if val_error_rate < best_valid_error_rate:\n",
    "        number_of_epochs = np.maximum(number_of_epochs, e * patience_expansion+1)\n",
    "        best_valid_error_rate = val_error_rate\n",
    "        best_params = snapshot_parameters()\n",
    "        best_params_epoch = e\n",
    "    validation_errors.append((i,val_error_rate))\n",
    "    print \"After epoch %d: valid_err_rate: %f%% currently going to do %d epochs\" %(\n",
    "        e, val_error_rate*100, number_of_epochs)\n",
    "    print \"After epoch %d: averaged train_err_rate: %f%% averaged train nll: %f averaged train loss: %f\" %(\n",
    "        e, np.mean(np.asarray(train_erros)[epoch_start_i:,1])*100, \n",
    "        np.mean(np.asarray(train_nll)[epoch_start_i:,1]),\n",
    "        np.mean(np.asarray(train_loss)[epoch_start_i:,1]))"
   ]
  },
  {
   "cell_type": "code",
   "execution_count": 53,
   "metadata": {
    "collapsed": false
   },
   "outputs": [
    {
     "name": "stdout",
     "output_type": "stream",
     "text": [
      "Setting network parameters from after epoch 138\n",
      "Test error rate is 8.710000%\n"
     ]
    },
    {
     "data": {
      "text/plain": [
       "<matplotlib.legend.Legend at 0x7f34edf22690>"
      ]
     },
     "execution_count": 53,
     "metadata": {},
     "output_type": "execute_result"
    },
    {
     "data": {
      "image/png": "[encoded data removed]",
      "text/plain": [
       "<matplotlib.figure.Figure at 0x7f350d897cd0>"
      ]
     },
     "metadata": {},
     "output_type": "display_data"
    }
   ],
   "source": [
    "print \"Setting network parameters from after epoch %d\" %(best_params_epoch)\n",
    "load_parameters(best_params)\n",
    "\n",
    "print \"Test error rate is %f%%\" %(compute_error_rate(mnist_test_stream)*100.0,)\n",
    "\n",
    "subplot(2,1,1)\n",
    "train_nll_a = np.array(train_nll)\n",
    "semilogy(train_nll_a[:,0], train_nll_a[:,1], label='batch train nll')\n",
    "legend()\n",
    "\n",
    "subplot(2,1,2)\n",
    "train_erros_a = np.array(train_erros)\n",
    "plot(train_erros_a[:,0], train_erros_a[:,1], label='batch train error rate')\n",
    "validation_errors_a = np.array(validation_errors)\n",
    "plot(validation_errors_a[:,0], validation_errors_a[:,1], label='validation error rate', color='r')\n",
    "ylim(0,0.2)\n",
    "legend()"
   ]
  }
 ],
 "metadata": {
  "kernelspec": {
   "display_name": "Python 2",
   "language": "python",
   "name": "python2"
  },
  "language_info": {
   "codemirror_mode": {
    "name": "ipython",
    "version": 2
   },
   "file_extension": ".py",
   "mimetype": "text/x-python",
   "name": "python",
   "nbconvert_exporter": "python",
   "pygments_lexer": "ipython2",
   "version": "2.7.10"
  }
 },
 "nbformat": 4,
 "nbformat_minor": 0
}
